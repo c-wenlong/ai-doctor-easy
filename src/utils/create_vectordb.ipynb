{
 "cells": [
  {
   "cell_type": "code",
   "execution_count": 1,
   "metadata": {},
   "outputs": [],
   "source": [
    "import os\n",
    "import openai\n",
    "from openai import OpenAI\n",
    "from dotenv import load_dotenv\n",
    "from qdrant_client import QdrantClient\n",
    "import pymupdf4llm"
   ]
  },
  {
   "cell_type": "code",
   "execution_count": 2,
   "metadata": {},
   "outputs": [],
   "source": [
    "load_dotenv()\n",
    "\n",
    "client = OpenAI()\n",
    "client.api_key = os.getenv(\"OPENAI_API_KEY\")"
   ]
  },
  {
   "cell_type": "code",
   "execution_count": 7,
   "metadata": {},
   "outputs": [],
   "source": [
    "def split_text_into_chunks(text, max_tokens=1024):\n",
    "    chunks = []\n",
    "    words = text.split()\n",
    "    for i in range(0, len(words), max_tokens):\n",
    "        chunk = \" \".join(words[i:i+max_tokens])\n",
    "        chunks.append(chunk)\n",
    "    return chunks"
   ]
  },
  {
   "cell_type": "code",
   "execution_count": 9,
   "metadata": {},
   "outputs": [
    {
     "name": "stdout",
     "output_type": "stream",
     "text": [
      "Processing ./knowledge_base/one.pdf...\n",
      "[                                        ] (0/10[                                        ] (  1/10[                                        ] (  2/109[=                                       ] (  3/109[=                                       ] (  4/109[=                                       ] (  5/10[==                                      ] (  6/10[==                                      ] (  7/10[==                                      ] (  8/109[===                                     ] (  9/109[===                                     ] ( 10/10[====                                    ] ( 11/10[====                                    ] ( 12/10[====                                    ] ( 13/109[=====                                   ] ( 14/1[=====                                   ] ( 15/109[=====                                   ] ( 16/10[======                                  ] ( 17/10[======                                  ] ( 18/10[======                                  ] ( 19/109[=======                                 ] ( 20/1[=======                                 ] ( 21/10[========                                ] ( 22/10[========                                ] ( 23/10[========                                ] ( 24/109[=========                               ] ( 25/109[=========                               ] ( 26/1[=========                               ] ( 27/10[==========                              ] ( 28/10[==========                              ] ( 29/109[===========                             ] ( 30/109[===========                             ] ( 31/1[===========                             ] ( 32/10[============                            ] ( 33/10[============                            ] ( 34/10[============                            ] ( 35/109[=============                           ] ( 36/1[=============                           ] ( 37/1[=============                           ] ( 38/10[==============                          ] ( 39/10[==============                          ] ( 40/109[===============                         ] ( 41/1[===============                         ] ( 42/109[===============                         ] ( 43/10[================                        ] ( 44/10[================                        ] ( 45/10[================                        ] ( 46/109[=================                       ] ( 47/109[=================                       ] ( 48/109[=================                       ] ( 49/10[==================                      ] ( 50/10[==================                      ] ( 51/109[===================                     ] ( 52/109[===================                     ] ( 53/109[===================                     ] ( 54/10[====================                    ] ( 55/10[====================                    ] ( 56/10[====================                    ] ( 57/109[=====================                   ] ( 58/109[=====================                   ] ( 59/10[======================                  ] ( 60/10[======================                  ] ( 61/10[======================                  ] ( 62/109[=======================                 ] ( 63/109[=======================                 ] ( 64/109[=======================                 ] ( 65/10[========================                ] ( 66/10[========================                ] ( 67/10[========================                ] ( 68/109[=========================               ] ( 69/1[=========================               ] ( 70/10[==========================              ] ( 71/10[==========================              ] ( 72/10[==========================              ] ( 73/109[===========================             ] ( 74/109[===========================             ] ( 75/109[===========================             ] ( 76/10[============================            ] ( 77/10[============================            ] ( 78/10[============================            ] ( 79/109[=============================           ] ( 80/1[=============================           ] ( 81/10[==============================          ] ( 82/10[==============================          ] ( 83/10[==============================          ] ( 84/109[===============================         ] ( 85/109[===============================         ] ( 86/1[===============================         ] ( 87/10[================================        ] ( 88/10[================================        ] ( 89/109[=================================       ] ( 90/1[=================================       ] ( 91/109[=================================       ] ( 92/10[==================================      ] ( 93/10[==================================      ] ( 94/10[==================================      ] ( 95/109[===================================     ] ( 96/1[===================================     ] ( 97/1[===================================     ] ( 98/10[====================================    ] ( 99/10[====================================    ] (100/109[=====================================   ] (101/1[=====================================   ] (102/1[=====================================   ] (103/10[======================================  ] (104/10[======================================  ] (105/10[======================================  ] (106/109[======================================= ] (107/109[======================================= ] (108/10[========================================] (109/109]\n",
      "Processing ./knowledge_base/two.pdf...\n",
      "[                                        ] (0/2[=                                       ] ( 1/2[==                                      ] ( 2/28=[====                                    ] ( 3/28[=====                                   ] ( 4/2=[=======                                 ] ( 5/2[========                                ] ( 6/28=[==========                              ] ( 7/28[===========                             ] ( 8/2[============                            ] ( 9/28=[==============                          ] (10/28[===============                         ] (11/2=[=================                       ] (12/2[==================                      ] (13/28=[====================                    ] (14/28[=====================                   ] (15/2[======================                  ] (16/28=[========================                ] (17/28[=========================               ] (18/2=[===========================             ] (19/2[============================            ] (20/28=[==============================          ] (21/28[===============================         ] (22/2[================================        ] (23/28=[==================================      ] (24/28[===================================     ] (25/2=[=====================================   ] (26/2[======================================  ] (27/28=[========================================] (28/28]\n",
      "Processing ./knowledge_base/three.pdf...\n",
      "[                                        ] (0/1=[==                                      ] ( 1/17=[====                                    ] ( 2/17==[=======                                 ] ( 3/1=[=========                               ] ( 4/1=[===========                             ] ( 5/1==[==============                          ] ( 6/17=[================                        ] ( 7/17=[==================                      ] ( 8/17==[=====================                   ] ( 9/1=[=======================                 ] (10/1=[=========================               ] (11/1==[============================            ] (12/17=[==============================          ] (13/17=[================================        ] (14/17==[===================================     ] (15/1=[=====================================   ] (16/1==[========================================] (17/17]\n"
     ]
    }
   ],
   "source": [
    "pdf_paths = ['./knowledge_base/one.pdf', './knowledge_base/two.pdf', './knowledge_base/three.pdf']\n",
    "for pdf_path in pdf_paths:\n",
    "    extracted_text = pymupdf4llm.to_markdown(pdf_path)\n",
    "    chunks = split_text_into_chunks(extracted_text)"
   ]
  },
  {
   "cell_type": "code",
   "execution_count": 19,
   "metadata": {},
   "outputs": [
    {
     "data": {
      "text/plain": [
       "'ious respiratory illness caused by influenza viruses. It attacks the respiratory system which includes the nose, the throat and the lungs.|\\n|Oxygen|It is a colourless, odourless, tasteless gas essential to living organisms. It is vital for respiration (breathing), which is the process that transfers energy from glucose to cells.|\\n|Pneumonia|Bacterial chest infection which affects the tiny air sacs in your lungs, called alveoli.|\\n|Pleural effusion|Water on the lungs - especially in the pleura (skin covering the lungs).|\\n|Vaccination|Medicine given to reduce risks of getting a disease by working with your body’s natural defenses to build protection.|\\n|Ventilators|Ventilators are machines that blow air - or air with extra oxygen - into your airways and your lungs. They are often referred to as life support machines and used in intensive care units for patients who cannot breathe on their own.|\\n\\n\\n-----\\n\\n### Health Promoting Village Project\\n\\n Japan International Cooperation Agency\\n\\n\\n-----\\n\\n'"
      ]
     },
     "execution_count": 19,
     "metadata": {},
     "output_type": "execute_result"
    }
   ],
   "source": [
    "extracted_text[-1000:]"
   ]
  },
  {
   "cell_type": "code",
   "execution_count": 27,
   "metadata": {},
   "outputs": [],
   "source": [
    "def get_embedding(text, model=\"text-embedding-3-small\"):\n",
    "   text = text.replace(\"\\n\", \" \")\n",
    "   return client.embeddings.create(input = [text], model=model).data[0].embedding"
   ]
  },
  {
   "cell_type": "code",
   "execution_count": 28,
   "metadata": {},
   "outputs": [],
   "source": [
    "chunk_embeddings = [{\"text\": chunk, \"embedding\": get_embedding(chunk)} for chunk in chunks]"
   ]
  },
  {
   "cell_type": "code",
   "execution_count": 3,
   "metadata": {},
   "outputs": [],
   "source": [
    "vectordb_client = QdrantClient(\n",
    "    url=os.getenv(\"QDRANT_URL\"), \n",
    "    api_key=os.getenv(\"QDRANT_API_KEY\")\n",
    ")\n",
    "\n",
    "# vectordb_client.recreate_collection(\n",
    "#     collection_name=\"medication_guide\",\n",
    "#     vectors_config={\"size\": 1536, \"distance\": \"Cosine\"}\n",
    "# )"
   ]
  },
  {
   "cell_type": "markdown",
   "metadata": {},
   "source": [
    "### before adding 3 new pdf"
   ]
  },
  {
   "cell_type": "code",
   "execution_count": 4,
   "metadata": {},
   "outputs": [
    {
     "name": "stdout",
     "output_type": "stream",
     "text": [
      "The collection 'respiratory_disease_guide' contains 5 points.\n"
     ]
    }
   ],
   "source": [
    "def check_number_of_points(vectordb_client, collection_name):\n",
    "    count = vectordb_client.count(collection_name=collection_name).count\n",
    "    return count\n",
    "\n",
    "# Example usage\n",
    "collection_name = \"respiratory_disease_guide\"\n",
    "number_of_points = check_number_of_points(vectordb_client, collection_name)\n",
    "print(f\"The collection '{collection_name}' contains {number_of_points} points.\")"
   ]
  },
  {
   "cell_type": "code",
   "execution_count": 36,
   "metadata": {},
   "outputs": [],
   "source": [
    "# Upload 3 new PDF information to the vectordb\n",
    "for idx, chunk in enumerate(chunk_embeddings):\n",
    "    vectordb_client.upsert(\n",
    "        collection_name=\"respiratory_disease_guide\",\n",
    "        points=[{\n",
    "            \"id\": idx,  # Use the integer directly\n",
    "            \"vector\": chunk[\"embedding\"],\n",
    "            \"payload\": {\"text\": chunk[\"text\"]}\n",
    "        }]\n",
    "    )"
   ]
  },
  {
   "cell_type": "markdown",
   "metadata": {},
   "source": [
    "### AFTER adding 3 new pdf"
   ]
  },
  {
   "cell_type": "code",
   "execution_count": 40,
   "metadata": {},
   "outputs": [
    {
     "name": "stdout",
     "output_type": "stream",
     "text": [
      "The collection 'respiratory_disease_guide' contains 213 points.\n"
     ]
    }
   ],
   "source": [
    "def check_number_of_points(vectordb_client, collection_name):\n",
    "    count = vectordb_client.count(collection_name=collection_name).count\n",
    "    return count\n",
    "\n",
    "# Example usage\n",
    "collection_name = \"respiratory_disease_guide\"\n",
    "number_of_points = check_number_of_points(vectordb_client, collection_name)\n",
    "print(f\"The collection '{collection_name}' contains {number_of_points} points.\")"
   ]
  },
  {
   "cell_type": "code",
   "execution_count": null,
   "metadata": {},
   "outputs": [],
   "source": [
    "def query_qdrant(query_text):\n",
    "    query_embedding = get_embedding(query_text)\n",
    "    search_result = client.search(\n",
    "        collection_name=\"medical_documents\",\n",
    "        query_vector=query_embedding,\n",
    "        limit=5\n",
    "    )\n",
    "    return [hit.payload[\"text\"] for hit in search_result]\n",
    "\n",
    "# Example query\n",
    "results = query_qdrant(\"What is the recommended dosage for medication A?\")\n",
    "for result in results:\n",
    "    print(result)"
   ]
  }
 ],
 "metadata": {
  "kernelspec": {
   "display_name": "venv313",
   "language": "python",
   "name": "python3"
  },
  "language_info": {
   "codemirror_mode": {
    "name": "ipython",
    "version": 3
   },
   "file_extension": ".py",
   "mimetype": "text/x-python",
   "name": "python",
   "nbconvert_exporter": "python",
   "pygments_lexer": "ipython3",
   "version": "3.13.0"
  }
 },
 "nbformat": 4,
 "nbformat_minor": 2
}
